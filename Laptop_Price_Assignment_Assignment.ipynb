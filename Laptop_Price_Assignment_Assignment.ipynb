{
  "cells": [
    {
      "cell_type": "code",
      "execution_count": null,
      "metadata": {},
      "outputs": [],
      "source": [
        "import pandas as pd\n",
        "import numpy as np\n",
        "import matplotlib.pyplot as plt\n",
        "from pathlib import Path"
      ]
    },
    {
      "cell_type": "code",
      "execution_count": null,
      "metadata": {},
      "outputs": [],
      "source": [
        "csv_path = Path(\"laptop_price.csv\")\n",
        "\n",
        "if csv_path.exists():\n",
        "    df = pd.read_csv(csv_path)\n",
        "    print(\"Dataset loaded:\", df.shape)\n",
        "else:\n",
        "    print(\"CSV not found. Please place 'laptop_price.csv' in the notebook directory.\")\n",
        "df.head()"
      ]
    },
    {
      "cell_type": "markdown",
      "metadata": {},
      "source": [
        "## 1. Types of Data"
      ]
    },
    {
      "cell_type": "code",
      "execution_count": null,
      "metadata": {},
      "outputs": [],
      "source": [
        "categorical_cols = df.select_dtypes(include=['object']).columns.tolist()\n",
        "numeric_cols = df.select_dtypes(include=[np.number]).columns.tolist()\n",
        "\n",
        "print(\"Categorical Columns:\", categorical_cols)\n",
        "print(\"Numeric Columns:\", numeric_cols)"
      ]
    },
    {
      "cell_type": "markdown",
      "metadata": {},
      "source": [
        "## 2. Balanced vs Imbalanced Dataset"
      ]
    },
    {
      "cell_type": "code",
      "execution_count": null,
      "metadata": {},
      "outputs": [],
      "source": [
        "price_bins = pd.qcut(df['Price_euros'], 4, labels=[\"Low\",\"Medium\",\"High\",\"Very High\"])\n",
        "bin_counts = price_bins.value_counts().sort_index()\n",
        "\n",
        "plt.pie(bin_counts, labels=bin_counts.index, autopct='%1.1f%%', startangle=90)\n",
        "plt.title(\"Price Distribution by Quartiles\")\n",
        "plt.show()\n",
        "\n",
        "bin_counts"
      ]
    },
    {
      "cell_type": "markdown",
      "metadata": {},
      "source": [
        "## 3. Continuous Variables Statistics"
      ]
    },
    {
      "cell_type": "code",
      "execution_count": null,
      "metadata": {},
      "outputs": [],
      "source": [
        "for col in numeric_cols:\n",
        "    s = df[col].dropna()\n",
        "    print(f\"--- {col} ---\")\n",
        "    print(\"Mean:\", s.mean())\n",
        "    print(\"Median:\", s.median())\n",
        "    print(\"Variance:\", s.var())\n",
        "    print(\"Std Dev:\", s.std())\n",
        "    print()"
      ]
    },
    {
      "cell_type": "markdown",
      "metadata": {},
      "source": [
        "## 4. Frequency of Categorical Variables"
      ]
    },
    {
      "cell_type": "code",
      "execution_count": null,
      "metadata": {},
      "outputs": [],
      "source": [
        "for col in categorical_cols[:3]:  # show top 3 categorical as example\n",
        "    print(f\"--- {col} ---\")\n",
        "    print(df[col].value_counts(normalize=True).head())\n",
        "    print()\n",
        "\n",
        "# Example bar chart for Company\n",
        "df['Company'].value_counts().head(10).plot(kind='bar', figsize=(8,4), title=\"Top 10 Companies\")\n",
        "plt.show()"
      ]
    },
    {
      "cell_type": "markdown",
      "metadata": {},
      "source": [
        "## 5. Line Graph of Prices"
      ]
    },
    {
      "cell_type": "code",
      "execution_count": null,
      "metadata": {},
      "outputs": [],
      "source": [
        "df['Price_euros'].sort_values().reset_index(drop=True).plot(kind='line', figsize=(8,4), title=\"Sorted Laptop Prices\")\n",
        "plt.ylabel(\"Price (Euros)\")\n",
        "plt.show()"
      ]
    },
    {
      "cell_type": "markdown",
      "metadata": {},
      "source": [
        "## 6. Correlation Heatmap"
      ]
    },
    {
      "cell_type": "code",
      "execution_count": null,
      "metadata": {},
      "outputs": [],
      "source": [
        "corr = df[numeric_cols].corr()\n",
        "fig, ax = plt.subplots(figsize=(6,5))\n",
        "cax = ax.matshow(corr, cmap='coolwarm')\n",
        "fig.colorbar(cax)\n",
        "ax.set_xticks(range(len(corr.columns)))\n",
        "ax.set_yticks(range(len(corr.columns)))\n",
        "ax.set_xticklabels(corr.columns, rotation=90)\n",
        "ax.set_yticklabels(corr.columns)\n",
        "plt.show()\n",
        "\n",
        "corr"
      ]
    },
    {
      "cell_type": "markdown",
      "metadata": {},
      "source": [
        "## 7. Encoding Categorical Features"
      ]
    },
    {
      "cell_type": "code",
      "execution_count": null,
      "metadata": {},
      "outputs": [],
      "source": [
        "df['Ram_num'] = pd.to_numeric(df['Ram'].str.replace('GB','', regex=False), errors='coerce')\n",
        "encoded = pd.get_dummies(df, columns=['Company','TypeName','Cpu','Gpu','OpSys'], drop_first=True)\n",
        "encoded.head()"
      ]
    },
    {
      "cell_type": "markdown",
      "metadata": {},
      "source": [
        "## 8. Missing Values Handling"
      ]
    },
    {
      "cell_type": "code",
      "execution_count": null,
      "metadata": {},
      "outputs": [],
      "source": [
        "print(df.isna().sum())\n",
        "\n",
        "for c in df.select_dtypes(include=[np.number]).columns:\n",
        "    df[c].fillna(df[c].median(), inplace=True)\n",
        "\n",
        "for c in df.select_dtypes(include='object').columns:\n",
        "    if df[c].isna().any():\n",
        "        df[c].fillna(df[c].mode()[0], inplace=True)\n",
        "\n",
        "print(\"After imputation:\")\n",
        "print(df.isna().sum())"
      ]
    },
    {
      "cell_type": "markdown",
      "metadata": {},
      "source": [
        "## 10. GitHub Repository\n",
        "\n",
        "Link: [https://github.com/your-username/laptop-price-assignment](https://github.com/your-username/laptop-price-assignment)\n",
        "\n",
        "### How to upload:\n",
        "```bash\n",
        "git init\n",
        "git add Laptop_Price_Assignment_Assignment.ipynb laptop_price.csv\n",
        "git commit -m \"Laptop price dataset analysis assignment\"\n",
        "git branch -M main\n",
        "git remote add origin https://github.com/your-username/laptop-price-assignment.git\n",
        "git push -u origin main\n",
        "```"
      ]
    }
  ],
  "metadata": {
    "kernelspec": {
      "display_name": "Python 3",
      "language": "python",
      "name": "python3"
    },
    "language_info": {
      "name": "python",
      "version": "3.10"
    }
  },
  "nbformat": 4,
  "nbformat_minor": 5
}
